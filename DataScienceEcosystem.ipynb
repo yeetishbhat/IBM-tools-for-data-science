{
  "nbformat": 4,
  "nbformat_minor": 0,
  "metadata": {
    "colab": {
      "provenance": [],
      "authorship_tag": "ABX9TyO5hh8P4ycBjgZB5VsnHgVo",
    },
    "kernelspec": {
      "name": "python3",
      "display_name": "Python 3"
    },
    "language_info": {
      "name": "python"
    }
  },
  "cells": [
    {
      "cell_type": "markdown",
      "metadata": {
        "id": "view-in-github",
        "colab_type": "text"
      },
      "source": [
        "<a href=\"https://colab.research.google.com/github/yeetishbhat/IBM-tools-for-data-science/blob/main/DataScienceEcosystem.ipynb\" target=\"_parent\"><img src=\"https://colab.research.google.com/assets/colab-badge.svg\" alt=\"Open In Colab\"/></a>"
      ]
    },
    {
      "cell_type": "markdown",
      "source": [
        "#  Data Science Tools and Ecosystem"
      ],
      "metadata": {
        "id": "2WSKMrH0r6y7"
      }
    },
    {
      "cell_type": "markdown",
      "source": [
        "In this notebook, Data Science Tools and Ecosystem are summarized."
      ],
      "metadata": {
        "id": "iBXpPWt1t6C5"
      }
    },
    {
      "cell_type": "markdown",
      "source": [
        "Some of the popular languages that Data Scientists use are:\n",
        "\n",
        "\n",
        "1.   Python\n",
        "2.   R language\n",
        "3.   SQL\n"
      ],
      "metadata": {
        "id": "jXzSK9bpun94"
      }
    },
    {
      "cell_type": "markdown",
      "source": [
        "Some of the commonly used libraries used by Data Scientists include:\n",
        "1.  Matplotlib\n",
        "2.  Scikit-learn\n",
        "3.  NumPy"
      ],
      "metadata": {
        "id": "ssS7TKkCvxF5"
      }
    },
    {
      "cell_type": "markdown",
      "source": [
        "| Data Science Tools |\n",
        "----------------------\n",
        "| Jupiter Notebook   |\n",
        "| Jupiterlite        |\n",
        "| Googlecolab        |\n",
        "| VScode             |"
      ],
      "metadata": {
        "id": "Q7kQeLgPwwew"
      }
    },
    {
      "cell_type": "markdown",
      "source": [
        "### Below are a few examples of evaluating arithmetic expressions in Python"
      ],
      "metadata": {
        "id": "VX9AGmUxyq6S"
      }
    },
    {
      "cell_type": "code",
      "source": [
        "(3*4)+5\n",
        "# This a simple arithmetic expression to mutiply then add integers"
      ],
      "metadata": {
        "colab": {
          "base_uri": "https://localhost:8080/"
        },
        "id": "c3Di48LRy32n",
        "outputId": "501b29e4-5a5d-4d2d-b3c3-9ac9c8021e17"
      },
      "execution_count": 2,
      "outputs": [
        {
          "output_type": "execute_result",
          "data": {
            "text/plain": [
              "17"
            ]
          },
          "metadata": {},
          "execution_count": 2
        }
      ]
    },
    {
      "cell_type": "code",
      "source": [
        "\n",
        "minutes = 200\n",
        "hrs = minutes/60\n",
        "# This will convert 200 minutes to hours by diving by 60\n",
        "print(f\"hours = {hrs}\")"
      ],
      "metadata": {
        "colab": {
          "base_uri": "https://localhost:8080/"
        },
        "id": "O3HdJp2yzib0",
        "outputId": "f47c650e-ad7c-484a-ab5c-0d3d4f613e52"
      },
      "execution_count": 3,
      "outputs": [
        {
          "output_type": "stream",
          "name": "stdout",
          "text": [
            "hours = 3.3333333333333335\n"
          ]
        }
      ]
    },
    {
      "cell_type": "markdown",
      "source": [
        "**Objectives:**\n",
        "\n",
        "*   List popular languages for Data Science\n",
        "*   Some of the commonly used libraries used by Data Scientists\n",
        "*   Development environment open source tools used in data science\n",
        "*   Simple arithmetic expression to mutiply then add integers\n",
        "\n"
      ],
      "metadata": {
        "id": "bWGNSBHu0oN3"
      }
    },
    {
      "cell_type": "markdown",
      "source": [
        "##  Author\n",
        "yeetish bhat"
      ],
      "metadata": {
        "id": "HNYitKv41b9v"
      }
    }
  ]
}
